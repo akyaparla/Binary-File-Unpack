{
 "cells": [
  {
   "cell_type": "code",
   "execution_count": null,
   "metadata": {},
   "outputs": [],
   "source": [
    "from BinaryFileUnpack import BinaryFileUnpack"
   ]
  },
  {
   "cell_type": "markdown",
   "metadata": {},
   "source": [
    "Initializing BinaryFileUnpack object"
   ]
  },
  {
   "cell_type": "code",
   "execution_count": null,
   "metadata": {},
   "outputs": [],
   "source": [
    "analysis = BinaryFileUnpack('AVAST_Test_11_20220531_17_49_51/AVAST_Test_11_20220531_17_49_51.bin')\n",
    "num_sens = analysis.num_sens"
   ]
  },
  {
   "cell_type": "markdown",
   "metadata": {},
   "source": [
    "Forming Spectral Analysis"
   ]
  },
  {
   "cell_type": "code",
   "execution_count": null,
   "metadata": {},
   "outputs": [],
   "source": [
    "# Pressure\n",
    "Pxx = analysis.spectra(analysis.P)\n",
    "# Temperature\n",
    "Txx = analysis.spectra(analysis.T)"
   ]
  },
  {
   "cell_type": "markdown",
   "metadata": {},
   "source": [
    "Graphing in Matplotlib (static)"
   ]
  },
  {
   "cell_type": "code",
   "execution_count": null,
   "metadata": {},
   "outputs": [],
   "source": [
    "# Pressure and Temperature Data\n",
    "analysis.plot_static(analysis.time, analysis.P, \"time (s)\", \"Pressure (bar)\", plots_shape=(num_sens, 1), color='b')\n",
    "analysis.plot_static(analysis.time, analysis.T, \"time (s)\", r\"Temperature ($^{\\circ}C$)\", plots_shape=(num_sens, 1), color='r')\n",
    "\n",
    "# Spectral Analysis\n",
    "analysis.plot_static(Pxx[0], Pxx[1], \"Frequency (Hz)\", \"Power (dB)\", plots_shape=(num_sens//2, 2), color='b', x_axis_type='log')\n",
    "analysis.plot_static(Txx[0], Txx[1], \"Frequency (Hz)\", \"Power (dB)\", plots_shape=(num_sens//2, 2), color='r', x_axis_type='log')"
   ]
  },
  {
   "cell_type": "markdown",
   "metadata": {},
   "source": [
    "Graphing in Bokeh (Interactive)"
   ]
  },
  {
   "cell_type": "code",
   "execution_count": null,
   "metadata": {},
   "outputs": [],
   "source": [
    "# Pressure and Temperature Data\n",
    "analysis.plot_interactive(analysis.time[::10], analysis.P[:, ::10], \"Time (s)\", \"Pressure (bar)\", (num_sens, 1), color='blue')\n",
    "analysis.plot_interactive(analysis.time[::10], analysis.T[:, ::10], \"Time (s)\", \"Temperature (deg C)\", (num_sens, 1), color='red')\n",
    "\n",
    "# Spectral Analysis\n",
    "analysis.plot_interactive(Pxx[0, :, ::10], Pxx[1, :, ::10], \"Frequency (Hz)\", \"Power (dB)-Pressure\", plots_shape=(num_sens//2, 2), color='blue', x_axis_type='log')\n",
    "analysis.plot_interactive(Txx[0, :, ::10], Txx[1, :, ::10], \"Frequency (Hz)\", \"Power (dB)-Temperature\", plots_shape=(num_sens//2, 2), color='red', x_axis_type='log')"
   ]
  }
 ],
 "metadata": {
  "kernelspec": {
   "display_name": "Python 3.8.8 ('base')",
   "language": "python",
   "name": "python3"
  },
  "language_info": {
   "codemirror_mode": {
    "name": "ipython",
    "version": 3
   },
   "file_extension": ".py",
   "mimetype": "text/x-python",
   "name": "python",
   "nbconvert_exporter": "python",
   "pygments_lexer": "ipython3",
   "version": "3.8.8"
  },
  "orig_nbformat": 4,
  "vscode": {
   "interpreter": {
    "hash": "6c05942d16a4581af7ed6e16e171f22d3550fc87e6464d12b2851a044f82444f"
   }
  }
 },
 "nbformat": 4,
 "nbformat_minor": 2
}
