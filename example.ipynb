{
 "cells": [
  {
   "cell_type": "code",
   "execution_count": null,
   "metadata": {},
   "outputs": [],
   "source": [
    "from BinaryFileUnpack import BinaryFileUnpack\n",
    "import numpy as np\n",
    "import tkinter as tk\n",
    "from tkinter import filedialog\n",
    "from matplotlib import pyplot as plt"
   ]
  },
  {
   "cell_type": "markdown",
   "metadata": {},
   "source": [
    "# Kistler Lab Data Instrutions with <code>BinaryFileUnpack</code>\n",
    "This Jupyter Notebook contains an example of the analysis methods in the <code>BinaryFileUnpack</code> module.\n",
    "\n",
    "**Instructions**\n",
    "1. Under the \"Daily Calibration\" cell, indicate which file should be used for the calibration of pressure data, along with the ambient pressure, indicated in the filename. The calibrated pressure data is stored in a new variable named <code>Pressure</code>, while the original pressure is in <code>analysis.P</code>.\n",
    "    - If there is no such file, ignore the \"Daily Calibration\" and \"Applying Calibration\" cells. When plotting, replace variables named <code>Pressure</code> with <code>analysis.P</code>.\n",
    "2. Select the <code>.bin</code> file corresponding to the experiment to analyze.\n",
    "3. If there is a daily calibration, run the cell labeled \"Apply Calibration.\"\n",
    "4. Run whatever cell you desire!\n",
    "\n",
    "\n",
    "When it comes to plotting, there are 2 options:\n",
    "- <code>%matplotlib qt</code>: A Jupyter Notebook magic command that emulates running <code>Matplotlib</code> plots in a <code>.py</code> file. This option will open up a separate, interactive window for the graph, allowing you to select a range of data more flexibly.\n",
    "- <code>%matplotlib inline</code>: A Jupyter Notebook magic command that displays plots within the notebook. While less flexible, it can handle plots containing more data better than the <code>%matplotlib qt</code> option.\n",
    "\n",
    "Choose which option you want by commenting out the option you do not want!\n"
   ]
  },
  {
   "cell_type": "markdown",
   "metadata": {},
   "source": [
    "## Daily Calibration"
   ]
  },
  {
   "cell_type": "code",
   "execution_count": null,
   "metadata": {},
   "outputs": [],
   "source": [
    "def daily_cali(fp:str, atm_pres):\n",
    "    cali_file = BinaryFileUnpack(fp)\n",
    "    pres_cali = np.mean(cali_file.P, axis=-1) - atm_pres\n",
    "    return pres_cali\n",
    "\n",
    "def apply_cali(analysis:BinaryFileUnpack, pres_cali):\n",
    "    Pres = np.zeros(analysis.P.shape)\n",
    "    for i in range(analysis.num_sens):\n",
    "        Pres[i] = analysis.P[i] - pres_cali[i]\n",
    "    return Pres\n",
    "\n",
    "pres_cali_1025 = daily_cali(r\"C:\\Users\\akyap\\OneDrive\\Documents\\Academics\\Research\\LDEO Geysers\\files\\10-25\\calibration_1019p01-20241025-10-14-35.bin\", 1.01901)\n",
    "pres_cali_1025"
   ]
  },
  {
   "attachments": {},
   "cell_type": "markdown",
   "metadata": {},
   "source": [
    "## Initializing BinaryFileUnpack object\n",
    "Select the <code>.bin</code> file to analyze."
   ]
  },
  {
   "cell_type": "code",
   "execution_count": null,
   "metadata": {},
   "outputs": [],
   "source": [
    "# Select the file to analyze\n",
    "interactive_select = True\n",
    "\n",
    "if interactive_select:\n",
    "    root = tk.Tk()\n",
    "    root.withdraw()\n",
    "    filepath = filedialog.askopenfilename()\n",
    "else:\n",
    "    # Specify filepath\n",
    "    filepath = r'HotWaterCycles_heaters_on_steam_in-20221118-20-09-42.bin'\n",
    "print(filepath)"
   ]
  },
  {
   "cell_type": "code",
   "execution_count": null,
   "metadata": {},
   "outputs": [],
   "source": [
    "analysis = BinaryFileUnpack(filepath, cut_range=None, sens_from_header=True, new_file=False)\n",
    "num_sens = analysis.num_sens\n",
    "analysis.header_info"
   ]
  },
  {
   "cell_type": "markdown",
   "metadata": {},
   "source": [
    "### Applying Calibration"
   ]
  },
  {
   "cell_type": "code",
   "execution_count": null,
   "metadata": {},
   "outputs": [],
   "source": [
    "Pressure = apply_cali(analysis, pres_cali_1025)\n",
    "Pressure"
   ]
  },
  {
   "attachments": {},
   "cell_type": "markdown",
   "metadata": {},
   "source": [
    "## Graphing PT data in Matplotlib (static)"
   ]
  },
  {
   "cell_type": "code",
   "execution_count": null,
   "metadata": {},
   "outputs": [],
   "source": [
    "# %matplotlib qt\n",
    "%matplotlib inline\n",
    "\n",
    "sta = 0; end = len(analysis.time)/analysis.fs\n",
    "times = analysis.getTimeRange(sta, end)\n",
    "# Pressure\n",
    "analysis.plot_static(analysis.time, Pressure, \"time (s)\", \"Pressure (bar)\", plots_shape=(num_sens, 1), color='b', times=times, ordering=[3, 5, 4, 2, 1, 0])\n",
    "# Temperature\n",
    "analysis.plot_static(analysis.time, analysis.T, \"time (s)\", r\"Temperature ($^{\\circ}C$)\", plots_shape=(num_sens, 1), color='r', times=times, ordering=[3, 5, 4, 2, 1, 0])\n",
    "# PT\n",
    "analysis.plot_static(analysis.time, analysis.P, \"time (s)\", \"Pressure (bar)\", plots_shape=(num_sens, 1), times=times, y2 = analysis.T, ordering=[3, 5, 4, 2, 1, 0], y2_label=r\"Temperature ($^{\\circ}C$)\", sharex=True)"
   ]
  },
  {
   "cell_type": "markdown",
   "metadata": {},
   "source": [
    "Pressure on same axis, Temperature on same axis of all sensors"
   ]
  },
  {
   "cell_type": "code",
   "execution_count": null,
   "metadata": {},
   "outputs": [],
   "source": [
    "# %matplotlib qt\n",
    "%matplotlib inline\n",
    "fig, ax = plt.subplots(2, 1, sharex=True)\n",
    "ax[0].set_xlabel(\"Time (sec)\")\n",
    "ax[0].set_ylabel(\"Pressure (bar)\")\n",
    "ax[1].set_ylabel(r\"Temperature ($^{\\circ}C$)\")\n",
    "for i in range(analysis.num_sens):\n",
    "    ax[0].plot(analysis.time, Pressure[i], label=f\"Sensor {i+1}\", linewidth=0.5)\n",
    "for i in range(analysis.num_sens):\n",
    "    ax[1].plot(analysis.time, analysis.T[i], label=f\"Sensor {i+1}\", linewidth=0.5)\n",
    "ax[0].legend(bbox_to_anchor=(1.02, 0), loc='lower left', borderaxespad=0.)\n",
    "ax[1].legend(bbox_to_anchor=(1.02, 0), loc='lower left', borderaxespad=0.)\n",
    "fig.show()"
   ]
  },
  {
   "cell_type": "markdown",
   "metadata": {},
   "source": [
    "Same as above, but just with filtered Pressure data."
   ]
  },
  {
   "cell_type": "code",
   "execution_count": null,
   "metadata": {},
   "outputs": [],
   "source": [
    "# %matplotlib qt\n",
    "%matplotlib inline\n",
    "import scipy.signal as signal\n",
    "bound_freq = 2.2\n",
    "nyq_freq = analysis.fs // 2\n",
    "b, a = signal.butter(1, bound_freq/nyq_freq, 'lowpass')\n",
    "for i in range(analysis.num_sens):\n",
    "    plt.plot(analysis.time, signal.filtfilt(b, a, Pressure[i]), label=f\"Sensor {i+1}\", linewidth=0.5)\n",
    "plt.legend()\n",
    "plt.xlabel(\"Time (sec)\")\n",
    "plt.ylabel(\"Pressure (bar)\")\n",
    "plt.show()"
   ]
  },
  {
   "cell_type": "markdown",
   "metadata": {},
   "source": [
    "## Simple Spectral Analysis\n",
    "For a more involved spectral analysis, run the \"Spectogram cells.\" This gives the spectra of the entire data.\n",
    "\n",
    "Obtaining spectra"
   ]
  },
  {
   "cell_type": "code",
   "execution_count": null,
   "metadata": {},
   "outputs": [],
   "source": [
    "# Pressure\n",
    "Pxx = analysis.spectra(Pressure)\n",
    "# Temperature\n",
    "Txx = analysis.spectra(analysis.T)"
   ]
  },
  {
   "cell_type": "markdown",
   "metadata": {},
   "source": [
    "Plotting Spectra (buggy)"
   ]
  },
  {
   "cell_type": "code",
   "execution_count": null,
   "metadata": {},
   "outputs": [],
   "source": [
    "# Spectral Analysis\n",
    "# %matplotlib qt\n",
    "%matplotlib inline\n",
    "analysis.plot_static(Pxx[0], Pxx[1], \"Frequency (Hz)\", \"Power (dB)\", plots_shape=(num_sens//2, 2), color='b', x_axis_type='log')\n",
    "analysis.plot_static(Txx[0], Txx[1], \"Frequency (Hz)\", \"Power (dB)\", plots_shape=(num_sens//2, 2), color='r', x_axis_type='log')"
   ]
  },
  {
   "cell_type": "markdown",
   "metadata": {},
   "source": [
    "## Spectrogram"
   ]
  },
  {
   "cell_type": "markdown",
   "metadata": {},
   "source": [
    "For a more detailed analysis, should run this. \n",
    "\n",
    "Obtaining spectogram"
   ]
  },
  {
   "cell_type": "code",
   "execution_count": null,
   "metadata": {},
   "outputs": [],
   "source": [
    "import scipy.fft as fft\n",
    "# FFT on Data\n",
    "# Pick a sensor\n",
    "sen:int = 1\n",
    "data = Pressure[sen]\n",
    "spec = analysis.spectrogram(data, window=20)"
   ]
  },
  {
   "cell_type": "markdown",
   "metadata": {},
   "source": [
    "Plotting Spectrum"
   ]
  },
  {
   "cell_type": "code",
   "execution_count": null,
   "metadata": {},
   "outputs": [],
   "source": [
    "# %matplotlib qt\n",
    "%matplotlib inline\n",
    "\n",
    "fig, ax = plt.subplots(2, 1, height_ratios=[1, 5], sharex=False)\n",
    "ax[0].plot(analysis.time[:-1], analysis.P[sen, :-1], color='blue', linewidth=0.5)\n",
    "ax[0].set_ylabel('Pressure (bar)')\n",
    "ax[0].set_xlim((0, analysis.time[-1]))\n",
    "\n",
    "ax[1].set_xlabel('Time (sec)')\n",
    "ax[1].set_ylabel('Frequency (Hz)')\n",
    "ax[1].pcolormesh(np.arange(int(analysis.time[-1])+1), spec[0, :, 0], spec[:, :-1, 1].T, cmap='viridis_r', vmin=-5, vmax=10, shading='flat')\n",
    "ax[1].set_ylim(0, 500)\n",
    "\n",
    "fig.show()"
   ]
  },
  {
   "attachments": {},
   "cell_type": "markdown",
   "metadata": {},
   "source": [
    "## Plotting Pressure against Temperature Data for Hot Water Eruption Cycles"
   ]
  },
  {
   "cell_type": "code",
   "execution_count": null,
   "metadata": {},
   "outputs": [],
   "source": [
    "# %matplotlib qt\n",
    "%matplotlib inline\n",
    "analysis.plot_eruption_PT(show_phase_boundaries=True, title=f\"10-25 Eruption Stage 4\", ordering=[3, 5, 4, 2, 1, 0], savefig=False, times=times)"
   ]
  },
  {
   "cell_type": "code",
   "execution_count": null,
   "metadata": {},
   "outputs": [],
   "source": [
    "header = \"Time,Pressure (bar),Temperature (deg C),Sensor No.\\n\"\n",
    "csv_name = \"TwoConstrictions_TopMiddle_Pool_Stage2and3-20241004-15-07-36-data.csv\"\n",
    "with open(csv_name, 'w') as fw:\n",
    "    for i in range(analysis.P.shape[0]):\n",
    "        for j in range(analysis.P.shape[1]):\n",
    "            fw.write(f\"{times[j]},{analysis.P[i][j]},{analysis.T[i][j]},{int(i+1)}\\n\")"
   ]
  },
  {
   "cell_type": "code",
   "execution_count": null,
   "metadata": {},
   "outputs": [],
   "source": [
    "x = np.array([0,1,2,3,4,5,6,7,8,9])\n",
    "x[:3]"
   ]
  },
  {
   "cell_type": "code",
   "execution_count": null,
   "metadata": {},
   "outputs": [],
   "source": [
    "try:\n",
    "    with open(r\"..\\11-08\\calibration_Room_994p23-20241108-10-34-34_headerInfo.csv\", 'r') as fr:\n",
    "        headers = fr.readlines()\n",
    "    with open('new.csv', 'w') as fw:\n",
    "        fw.writelines(headers)\n",
    "        fw.write(f\"Start Splice,120\\n\")\n",
    "except:\n",
    "    pass"
   ]
  }
 ],
 "metadata": {
  "kernelspec": {
   "display_name": "base",
   "language": "python",
   "name": "python3"
  },
  "language_info": {
   "codemirror_mode": {
    "name": "ipython",
    "version": 3
   },
   "file_extension": ".py",
   "mimetype": "text/x-python",
   "name": "python",
   "nbconvert_exporter": "python",
   "pygments_lexer": "ipython3",
   "version": "3.8.17"
  }
 },
 "nbformat": 4,
 "nbformat_minor": 2
}
